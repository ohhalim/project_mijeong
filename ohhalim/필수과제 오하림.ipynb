{
 "cells": [
  {
   "cell_type": "code",
   "execution_count": 2,
   "id": "01ab5669-6cfc-43e2-972c-8889ad26b7ef",
   "metadata": {},
   "outputs": [
    {
     "data": {
      "text/plain": [
       "'\\n타이타닉 생존자 예측 프로잭트(오하림)\\n\\n1. 데이터셋 불러오기\\n2. feature 분석\\n3. feature engineering\\n'"
      ]
     },
     "execution_count": 2,
     "metadata": {},
     "output_type": "execute_result"
    }
   ],
   "source": [
    "\"\"\"\n",
    "타이타닉 생존자 예측 프로잭트(오하림)\n",
    "\n",
    "1. 데이터셋 불러오기\n",
    "2. feature 분석\n",
    "3. feature engineering\n",
    "\"\"\""
   ]
  },
  {
   "cell_type": "code",
   "execution_count": 3,
   "id": "60d50f07-c710-47ef-994c-3a0b892c9dc9",
   "metadata": {},
   "outputs": [],
   "source": [
    "import pandas as pd\n",
    "import numpy as np\n",
    "import seaborn as sns\n",
    "import matplotlib.pyplot as plt\n",
    "from sklearn.model_selection import train_test_split, cross_val_score\n",
    "from sklearn.preprocessing import StandardScaler\n",
    "from sklearn.linear_model import LogisticRegression\n",
    "from sklearn.tree import DecisionTreeClassifier\n",
    "from sklearn.ensemble import RandomForestClassifier\n",
    "from sklearn.metrics import accuracy_score, classification_report, confusion_matrix\n"
   ]
  },
  {
   "cell_type": "code",
   "execution_count": 6,
   "id": "fd09b583-8092-4181-979c-71e2ca16b591",
   "metadata": {},
   "outputs": [
    {
     "name": "stdout",
     "output_type": "stream",
     "text": [
      "===2. feature 분석 ===\n",
      "\n",
      "2.1 데이터 기본 정보\n",
      "   survived  pclass     sex   age  sibsp  parch     fare embarked  class  \\\n",
      "0         0       3    male  22.0      1      0   7.2500        S  Third   \n",
      "1         1       1  female  38.0      1      0  71.2833        C  First   \n",
      "2         1       3  female  26.0      0      0   7.9250        S  Third   \n",
      "3         1       1  female  35.0      1      0  53.1000        S  First   \n",
      "4         0       3    male  35.0      0      0   8.0500        S  Third   \n",
      "\n",
      "     who  adult_male deck  embark_town alive  alone  \n",
      "0    man        True  NaN  Southampton    no  False  \n",
      "1  woman       False    C    Cherbourg   yes  False  \n",
      "2  woman       False  NaN  Southampton   yes   True  \n",
      "3  woman       False    C  Southampton   yes  False  \n",
      "4    man        True  NaN  Southampton    no   True  \n",
      "\n",
      "2.2 데이터 통계\n",
      "         survived      pclass         age       sibsp       parch        fare\n",
      "count  891.000000  891.000000  714.000000  891.000000  891.000000  891.000000\n",
      "mean     0.383838    2.308642   29.699118    0.523008    0.381594   32.204208\n",
      "std      0.486592    0.836071   14.526497    1.102743    0.806057   49.693429\n",
      "min      0.000000    1.000000    0.420000    0.000000    0.000000    0.000000\n",
      "25%      0.000000    2.000000   20.125000    0.000000    0.000000    7.910400\n",
      "50%      0.000000    3.000000   28.000000    0.000000    0.000000   14.454200\n",
      "75%      1.000000    3.000000   38.000000    1.000000    0.000000   31.000000\n",
      "max      1.000000    3.000000   80.000000    8.000000    6.000000  512.329200\n",
      "\n",
      "2.3 데이터 통계 분석\n",
      "count는 데이터의 총 개수입니다. 결측값없이 데이터가 존재함을 보여줍니다.\n",
      "mean는 평균값입니다. 데이터의 중심경향을 보여줍니다.\n",
      "std는 표준편차입니다. 데이터 값들의 흩어짐 정도를 보여줍니다.\n",
      "min는 최솟값입니다. 데이터 중 가장 작은 값을 보여줍니다.\n",
      "25%는 1사분위수입니다. 데이터의 하위 25%에 해당하는 값을 보여줍니다.\n",
      "50%는 중위수입니다. 데이터 중앙에 해당하는 값을 보여줍니다.\n",
      "75%는 3분위수입니다. 데이터 상위25%를 제외한 값을 보여줍니다.\n",
      "max는 최대값입니다. 데이터중 가장 큰 값을 보여줍니다.\n",
      "\n",
      "2.4 결측치 개수\n",
      "survived         0\n",
      "pclass           0\n",
      "sex              0\n",
      "age            177\n",
      "sibsp            0\n",
      "parch            0\n",
      "fare             0\n",
      "embarked         2\n",
      "class            0\n",
      "who              0\n",
      "adult_male       0\n",
      "deck           688\n",
      "embark_town      2\n",
      "alive            0\n",
      "alone            0\n",
      "dtype: int64\n"
     ]
    }
   ],
   "source": [
    "def load_and_analyze_data():\n",
    "    \"\"\"\n",
    "    1. 데이터셋 불러오기\n",
    "    \"\"\"\n",
    "    # 데이터셋 불러오기\n",
    "    titanic = sns.load_dataset('titanic')\n",
    "\n",
    "    \"\"\"\n",
    "    2. feature 분석\n",
    "    \"\"\"\n",
    "    print(\"===2. feature 분석 ===\")\n",
    "    \n",
    "    # 2.1 데이터 기본 정보\n",
    "    print(\"\\n2.1 데이터 기본 정보\")\n",
    "    print(titanic.head())\n",
    "  \n",
    "    # 2.2 데이터 통계\n",
    "    print(\"\\n2.2 데이터 통계\")\n",
    "    print(titanic.describe())\n",
    "    \n",
    "    # 2.3 데이터 통계 분석\n",
    "    print(\"\\n2.3 데이터 통계 분석\")\n",
    "    print(\"count는 데이터의 총 개수입니다. 결측값없이 데이터가 존재함을 보여줍니다.\")\n",
    "    print(\"mean는 평균값입니다. 데이터의 중심경향을 보여줍니다.\")\n",
    "    print(\"std는 표준편차입니다. 데이터 값들의 흩어짐 정도를 보여줍니다.\")\n",
    "    print(\"min는 최솟값입니다. 데이터 중 가장 작은 값을 보여줍니다.\")\n",
    "    print(\"25%는 1사분위수입니다. 데이터의 하위 25%에 해당하는 값을 보여줍니다.\")\n",
    "    print(\"50%는 중위수입니다. 데이터 중앙에 해당하는 값을 보여줍니다.\")\n",
    "    print(\"75%는 3분위수입니다. 데이터 상위25%를 제외한 값을 보여줍니다.\")    \n",
    "    print(\"max는 최대값입니다. 데이터중 가장 큰 값을 보여줍니다.\")\n",
    "\n",
    "    # 2.4 결측치 개수 확인\n",
    "    print(\"\\n2.4 결측치 개수\")\n",
    "    print(titanic.isnull().sum())\n",
    "    return titanic\n",
    "\n",
    "\n",
    "\n",
    "if __name__ == \"__main__\":\n",
    "    titanic = load_and_analyze_data()\n"
   ]
  },
  {
   "cell_type": "code",
   "execution_count": null,
   "id": "c7c9bf0a-6777-4f49-ad80-bd27ab66a09c",
   "metadata": {},
   "outputs": [],
   "source": []
  }
 ],
 "metadata": {
  "kernelspec": {
   "display_name": "mldl)",
   "language": "python",
   "name": "mldl"
  },
  "language_info": {
   "codemirror_mode": {
    "name": "ipython",
    "version": 3
   },
   "file_extension": ".py",
   "mimetype": "text/x-python",
   "name": "python",
   "nbconvert_exporter": "python",
   "pygments_lexer": "ipython3",
   "version": "3.12.7"
  }
 },
 "nbformat": 4,
 "nbformat_minor": 5
}
